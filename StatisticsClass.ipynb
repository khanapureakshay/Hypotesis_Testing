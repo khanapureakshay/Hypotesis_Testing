{
 "cells": [
  {
   "cell_type": "markdown",
   "metadata": {},
   "source": [
    "## 01.One sample t test 2 sided"
   ]
  },
  {
   "cell_type": "code",
   "execution_count": 1,
   "metadata": {},
   "outputs": [],
   "source": [
    "import pandas as pd\n",
    "import numpy as np"
   ]
  },
  {
   "cell_type": "code",
   "execution_count": 2,
   "metadata": {},
   "outputs": [],
   "source": [
    "df_production=pd.read_csv(r'D:\\Imarticus Database\\Hypothesis Testing Data Set\\Production.csv')"
   ]
  },
  {
   "cell_type": "markdown",
   "metadata": {},
   "source": [
    "* Two tail que"
   ]
  },
  {
   "cell_type": "markdown",
   "metadata": {},
   "source": [
    "Que.1 The voilent industry furniture for home and office\n",
    "Muee=Mean=The average number of furniture produced by  Machine A"
   ]
  },
  {
   "cell_type": "markdown",
   "metadata": {},
   "source": [
    "Hypotesis\n",
    "H0: Mean of items Produced by Machine A is 10,i.e. μ=30\n",
    "    Against\n",
    "H1: Mean of items Produced by Machine A is not equal to 10 i.e. μ!=30 "
   ]
  },
  {
   "cell_type": "code",
   "execution_count": 3,
   "metadata": {},
   "outputs": [],
   "source": [
    "from scipy.stats import ttest_1samp"
   ]
  },
  {
   "cell_type": "code",
   "execution_count": 30,
   "metadata": {},
   "outputs": [],
   "source": [
    "#Conduct T-test\n",
    "ttest,pvalue=ttest_1samp(df_production[\"Items Produced\"],30)"
   ]
  },
  {
   "cell_type": "code",
   "execution_count": 32,
   "metadata": {},
   "outputs": [
    {
     "name": "stdout",
     "output_type": "stream",
     "text": [
      "1.2674612253287467 0.23680061493494728\n"
     ]
    }
   ],
   "source": [
    "print(ttest,pvalue)"
   ]
  },
  {
   "cell_type": "code",
   "execution_count": 33,
   "metadata": {},
   "outputs": [
    {
     "name": "stdout",
     "output_type": "stream",
     "text": [
      "Accept H0 \n"
     ]
    }
   ],
   "source": [
    "if pvalue>0.05:\n",
    "    print(\"Accept H0 \")\n",
    "else:\n",
    "    print(\"Reject H0\")"
   ]
  },
  {
   "cell_type": "markdown",
   "metadata": {},
   "source": [
    "* we can see Pvalue(0.236)>Significace(0.05) hence we accept H0\n",
    " from here we can conclude that μ = 30"
   ]
  },
  {
   "cell_type": "markdown",
   "metadata": {},
   "source": [
    "* One tail que"
   ]
  },
  {
   "cell_type": "markdown",
   "metadata": {},
   "source": [
    "* Que. bulb life\n",
    "Hypotesis\n",
    "Ho: μ=45000\n",
    "H1: μ<=45000"
   ]
  },
  {
   "cell_type": "code",
   "execution_count": 34,
   "metadata": {},
   "outputs": [
    {
     "data": {
      "text/html": [
       "<div>\n",
       "<style scoped>\n",
       "    .dataframe tbody tr th:only-of-type {\n",
       "        vertical-align: middle;\n",
       "    }\n",
       "\n",
       "    .dataframe tbody tr th {\n",
       "        vertical-align: top;\n",
       "    }\n",
       "\n",
       "    .dataframe thead th {\n",
       "        text-align: right;\n",
       "    }\n",
       "</style>\n",
       "<table border=\"1\" class=\"dataframe\">\n",
       "  <thead>\n",
       "    <tr style=\"text-align: right;\">\n",
       "      <th></th>\n",
       "      <th>life</th>\n",
       "    </tr>\n",
       "  </thead>\n",
       "  <tbody>\n",
       "    <tr>\n",
       "      <th>0</th>\n",
       "      <td>35000</td>\n",
       "    </tr>\n",
       "    <tr>\n",
       "      <th>1</th>\n",
       "      <td>49000</td>\n",
       "    </tr>\n",
       "    <tr>\n",
       "      <th>2</th>\n",
       "      <td>44000</td>\n",
       "    </tr>\n",
       "    <tr>\n",
       "      <th>3</th>\n",
       "      <td>45900</td>\n",
       "    </tr>\n",
       "    <tr>\n",
       "      <th>4</th>\n",
       "      <td>43400</td>\n",
       "    </tr>\n",
       "    <tr>\n",
       "      <th>5</th>\n",
       "      <td>50000</td>\n",
       "    </tr>\n",
       "    <tr>\n",
       "      <th>6</th>\n",
       "      <td>47200</td>\n",
       "    </tr>\n",
       "    <tr>\n",
       "      <th>7</th>\n",
       "      <td>32700</td>\n",
       "    </tr>\n",
       "    <tr>\n",
       "      <th>8</th>\n",
       "      <td>33200</td>\n",
       "    </tr>\n",
       "    <tr>\n",
       "      <th>9</th>\n",
       "      <td>43000</td>\n",
       "    </tr>\n",
       "    <tr>\n",
       "      <th>10</th>\n",
       "      <td>46300</td>\n",
       "    </tr>\n",
       "    <tr>\n",
       "      <th>11</th>\n",
       "      <td>47800</td>\n",
       "    </tr>\n",
       "    <tr>\n",
       "      <th>12</th>\n",
       "      <td>32100</td>\n",
       "    </tr>\n",
       "    <tr>\n",
       "      <th>13</th>\n",
       "      <td>33200</td>\n",
       "    </tr>\n",
       "    <tr>\n",
       "      <th>14</th>\n",
       "      <td>33900</td>\n",
       "    </tr>\n",
       "  </tbody>\n",
       "</table>\n",
       "</div>"
      ],
      "text/plain": [
       "     life\n",
       "0   35000\n",
       "1   49000\n",
       "2   44000\n",
       "3   45900\n",
       "4   43400\n",
       "5   50000\n",
       "6   47200\n",
       "7   32700\n",
       "8   33200\n",
       "9   43000\n",
       "10  46300\n",
       "11  47800\n",
       "12  32100\n",
       "13  33200\n",
       "14  33900"
      ]
     },
     "execution_count": 34,
     "metadata": {},
     "output_type": "execute_result"
    }
   ],
   "source": [
    "# Load Data\n",
    "df_lifeSpan= pd.read_csv(r'D:\\Imarticus Database\\Hypothesis Testing Data Set\\LifeSpan.csv')\n",
    "df_lifeSpan"
   ]
  },
  {
   "cell_type": "code",
   "execution_count": 7,
   "metadata": {},
   "outputs": [],
   "source": [
    "# Assume first is two tail test\n",
    "t_test_less = ttest_1samp(df_lifeSpan['life'],45000)"
   ]
  },
  {
   "cell_type": "code",
   "execution_count": 8,
   "metadata": {},
   "outputs": [],
   "source": [
    "# so divide Two tail by 2 to get One Tail\n",
    "p_value_less=t_test_less.pvalue/2"
   ]
  },
  {
   "cell_type": "code",
   "execution_count": 9,
   "metadata": {},
   "outputs": [
    {
     "data": {
      "text/plain": [
       "0.022628491566062506"
      ]
     },
     "execution_count": 9,
     "metadata": {},
     "output_type": "execute_result"
    }
   ],
   "source": [
    "p_value_less"
   ]
  },
  {
   "cell_type": "code",
   "execution_count": 10,
   "metadata": {},
   "outputs": [],
   "source": [
    "# Since P-Value(0.022)<0.05 (Significance) hence we reject H0  μ<=45000"
   ]
  },
  {
   "cell_type": "markdown",
   "metadata": {},
   "source": [
    "## Two Sample T test"
   ]
  },
  {
   "cell_type": "markdown",
   "metadata": {},
   "source": [
    "* Que. X: Diet A weight\n",
    "       y: Diet B weight \n",
    "μA=Average weight of A\n",
    "μB=Average weight of B\n",
    "\n",
    "H0:μA=μB (Average weight of Both is Same)\n",
    "H1:μA!=μB(Average weight of Both is Different)\n"
   ]
  },
  {
   "cell_type": "code",
   "execution_count": 11,
   "metadata": {},
   "outputs": [],
   "source": [
    "df_diet=pd.read_csv(r'D:\\Imarticus Database\\Hypothesis Testing Data Set\\Diet_data.csv')"
   ]
  },
  {
   "cell_type": "code",
   "execution_count": 12,
   "metadata": {},
   "outputs": [],
   "source": [
    "#T-Test for Eqaulity of Means\n",
    "from scipy.stats import ttest_ind"
   ]
  },
  {
   "cell_type": "code",
   "execution_count": 13,
   "metadata": {},
   "outputs": [
    {
     "data": {
      "text/plain": [
       "Ttest_indResult(statistic=0.5169140149580205, pvalue=0.6115094596012607)"
      ]
     },
     "execution_count": 13,
     "metadata": {},
     "output_type": "execute_result"
    }
   ],
   "source": [
    "ttest_ind(df_diet[\"Diet A\"],df_diet[\"Diet B\"])\n",
    "# Pvalue> alpha i.e.0.05 so we Fail to Reject H0\n",
    "# so Mean are  equal"
   ]
  },
  {
   "cell_type": "markdown",
   "metadata": {},
   "source": [
    "## Paird T-test"
   ]
  },
  {
   "cell_type": "markdown",
   "metadata": {},
   "source": [
    "x=Hours of Sleep before Meditation\n",
    "y= after \n",
    "μx:Average hours of Sleep before Meditation\n",
    "μy:Average after\n",
    "H0: μx=μy\n",
    "H1: μx!=μy"
   ]
  },
  {
   "cell_type": "code",
   "execution_count": 24,
   "metadata": {},
   "outputs": [
    {
     "data": {
      "text/html": [
       "<div>\n",
       "<style scoped>\n",
       "    .dataframe tbody tr th:only-of-type {\n",
       "        vertical-align: middle;\n",
       "    }\n",
       "\n",
       "    .dataframe tbody tr th {\n",
       "        vertical-align: top;\n",
       "    }\n",
       "\n",
       "    .dataframe thead th {\n",
       "        text-align: right;\n",
       "    }\n",
       "</style>\n",
       "<table border=\"1\" class=\"dataframe\">\n",
       "  <thead>\n",
       "    <tr style=\"text-align: right;\">\n",
       "      <th></th>\n",
       "      <th>Hours of Sleep (Before)</th>\n",
       "      <th>Hours of Sleep (After)</th>\n",
       "    </tr>\n",
       "  </thead>\n",
       "  <tbody>\n",
       "    <tr>\n",
       "      <th>0</th>\n",
       "      <td>5.0</td>\n",
       "      <td>7.0</td>\n",
       "    </tr>\n",
       "    <tr>\n",
       "      <th>1</th>\n",
       "      <td>6.0</td>\n",
       "      <td>7.5</td>\n",
       "    </tr>\n",
       "    <tr>\n",
       "      <th>2</th>\n",
       "      <td>6.5</td>\n",
       "      <td>9.0</td>\n",
       "    </tr>\n",
       "    <tr>\n",
       "      <th>3</th>\n",
       "      <td>5.5</td>\n",
       "      <td>7.0</td>\n",
       "    </tr>\n",
       "    <tr>\n",
       "      <th>4</th>\n",
       "      <td>6.5</td>\n",
       "      <td>8.0</td>\n",
       "    </tr>\n",
       "    <tr>\n",
       "      <th>5</th>\n",
       "      <td>7.0</td>\n",
       "      <td>7.5</td>\n",
       "    </tr>\n",
       "    <tr>\n",
       "      <th>6</th>\n",
       "      <td>8.0</td>\n",
       "      <td>7.0</td>\n",
       "    </tr>\n",
       "    <tr>\n",
       "      <th>7</th>\n",
       "      <td>7.5</td>\n",
       "      <td>7.0</td>\n",
       "    </tr>\n",
       "    <tr>\n",
       "      <th>8</th>\n",
       "      <td>6.0</td>\n",
       "      <td>7.0</td>\n",
       "    </tr>\n",
       "    <tr>\n",
       "      <th>9</th>\n",
       "      <td>7.0</td>\n",
       "      <td>6.5</td>\n",
       "    </tr>\n",
       "  </tbody>\n",
       "</table>\n",
       "</div>"
      ],
      "text/plain": [
       "   Hours of Sleep (Before)  Hours of Sleep (After)\n",
       "0                      5.0                     7.0\n",
       "1                      6.0                     7.5\n",
       "2                      6.5                     9.0\n",
       "3                      5.5                     7.0\n",
       "4                      6.5                     8.0\n",
       "5                      7.0                     7.5\n",
       "6                      8.0                     7.0\n",
       "7                      7.5                     7.0\n",
       "8                      6.0                     7.0\n",
       "9                      7.0                     6.5"
      ]
     },
     "execution_count": 24,
     "metadata": {},
     "output_type": "execute_result"
    }
   ],
   "source": [
    "df_sleepdata=pd.read_csv(r'D:\\Imarticus Database\\Hypothesis Testing Data Set\\Sleep_data.csv')\n",
    "df_sleepdata"
   ]
  },
  {
   "cell_type": "code",
   "execution_count": 15,
   "metadata": {},
   "outputs": [],
   "source": [
    "from scipy.stats import ttest_rel"
   ]
  },
  {
   "cell_type": "code",
   "execution_count": 23,
   "metadata": {},
   "outputs": [
    {
     "data": {
      "text/plain": [
       "Ttest_relResult(statistic=-2.2785119632047284, pvalue=0.048680802344322635)"
      ]
     },
     "execution_count": 23,
     "metadata": {},
     "output_type": "execute_result"
    }
   ],
   "source": [
    "ttest_rel(df_sleepdata['Hours of Sleep (Before)'],df_sleepdata['Hours of Sleep (After)'])"
   ]
  },
  {
   "cell_type": "markdown",
   "metadata": {},
   "source": [
    " Pvalue(0.048)<0.05 so that we are REJECTING H0\n",
    " we can conclude that average Hours of Sleep after Sleep is not same before and after meditation "
   ]
  },
  {
   "cell_type": "markdown",
   "metadata": {},
   "source": [
    "# Z-test"
   ]
  },
  {
   "cell_type": "markdown",
   "metadata": {},
   "source": [
    "* Que. "
   ]
  },
  {
   "cell_type": "markdown",
   "metadata": {},
   "source": [
    "A random Sample of 40 glass rods is taken from a lot manufacturing under a new process. They are tested for their breaking strength.Can we claim that the breaking strength is equal to 55lbs?"
   ]
  },
  {
   "cell_type": "markdown",
   "metadata": {},
   "source": [
    "X: Breaking Strength of Glass rod\n",
    "thus μ= Average breaking stength of Glass\n",
    "H0: μ =55lbs(Average breaking stength of Glass=55 lbs)\n",
    "H1: μ!= 55 lbs(Average breaking stength of Glass is NOT 55 lbs)"
   ]
  },
  {
   "cell_type": "code",
   "execution_count": 42,
   "metadata": {},
   "outputs": [],
   "source": [
    "# Load Data\n",
    "df_strength= pd.read_csv(r'D:\\Imarticus Database\\Hypothesis Testing Data Set\\Strength.csv')"
   ]
  },
  {
   "cell_type": "code",
   "execution_count": 43,
   "metadata": {},
   "outputs": [],
   "source": [
    "#Import Libraries\n",
    "from statsmodels.stats import weightstats as stests"
   ]
  },
  {
   "cell_type": "code",
   "execution_count": 39,
   "metadata": {},
   "outputs": [
    {
     "data": {
      "text/plain": [
       "(-4.431740748679182, 9.347536680921983e-06)"
      ]
     },
     "execution_count": 39,
     "metadata": {},
     "output_type": "execute_result"
    }
   ],
   "source": [
    "# Conduct Test\n",
    "stests.ztest(df_strength[\"Strength(in lbs)\"],value=55)"
   ]
  },
  {
   "cell_type": "markdown",
   "metadata": {},
   "source": [
    "Since Pvalue(0)<Significance(0.05),Hence we Reject Null Hypotesis\n",
    "Hence glassrod Strength is not 55 lbs"
   ]
  },
  {
   "cell_type": "markdown",
   "metadata": {},
   "source": [
    "### Two Sample Test(Z)"
   ]
  },
  {
   "cell_type": "markdown",
   "metadata": {},
   "source": [
    "Que. Two types of fertilizers are teasted on farm lands of the same size.The yields in quintals are given below.Can we conclude that two fertilizers have Same Yield?"
   ]
  },
  {
   "cell_type": "markdown",
   "metadata": {},
   "source": [
    "X: Fertilizer 1\n",
    "Y: Fertilizer 2\n",
    "ua=Average Yield due to Fertilizer 1\n",
    "ub=Average Yield due to Fertilizer 2\n",
    "H0: Both Yield Same (ua=ub)\n",
    "Ha: Both Yield Different(ua!=ub)"
   ]
  },
  {
   "cell_type": "code",
   "execution_count": null,
   "metadata": {},
   "outputs": [],
   "source": [
    "# Load Data\n",
    "df_fertilizers=pd.read_csv(r'D:\\Imarticus Database\\Hypothesis Testing Data Set\\Fertilizer.csv')\n",
    "#Import Libraries\n",
    "from statsmodels.stats import weightstats as stests"
   ]
  },
  {
   "cell_type": "code",
   "execution_count": 50,
   "metadata": {},
   "outputs": [
    {
     "data": {
      "text/plain": [
       "(-1.1390306751872912, 0.25469036008906554)"
      ]
     },
     "execution_count": 50,
     "metadata": {},
     "output_type": "execute_result"
    }
   ],
   "source": [
    "# Conduct Ztest\n",
    "stests.ztest(df_fertilizers[\"Fertilizer 1\"],df_fertilizers[\"Fertilizer 2\"])"
   ]
  },
  {
   "cell_type": "markdown",
   "metadata": {},
   "source": [
    "Since Pvalue(0.2546)>0.05 so that H0 is ACCEPTED, Both yield SAME"
   ]
  },
  {
   "cell_type": "markdown",
   "metadata": {},
   "source": [
    "# Shapiro-Wilk Test"
   ]
  },
  {
   "cell_type": "code",
   "execution_count": 2,
   "metadata": {},
   "outputs": [],
   "source": [
    "import numpy as np"
   ]
  },
  {
   "cell_type": "code",
   "execution_count": 4,
   "metadata": {},
   "outputs": [],
   "source": [
    "# Create data random Sample\n",
    "rain_in_mm=np.random.random(200)*100"
   ]
  },
  {
   "cell_type": "markdown",
   "metadata": {},
   "source": [
    "H0: Data is Normally Distributed\n",
    "Ha: Data is NOT Normally Distributed"
   ]
  },
  {
   "cell_type": "code",
   "execution_count": 6,
   "metadata": {},
   "outputs": [
    {
     "name": "stdout",
     "output_type": "stream",
     "text": [
      "Test Statictics = 0.9536012411117554 and Pvalue = 4.263997197995195e-06\n"
     ]
    }
   ],
   "source": [
    "# Import shapiro from scipy library\n",
    "from scipy.stats import shapiro\n",
    "# conduct Normality Test\n",
    "stat,p= shapiro(rain_in_mm)\n",
    "\n",
    "print(\"Test Statictics =\",stat,\"and Pvalue =\",p)"
   ]
  },
  {
   "cell_type": "markdown",
   "metadata": {},
   "source": [
    "Since Pvalue(4.46)<0.05 so that H0 is Rejected \n",
    "Hence we Can Conclude that Data is NOT Normally Distributed"
   ]
  },
  {
   "cell_type": "markdown",
   "metadata": {},
   "source": [
    " # Jarque-Bera test"
   ]
  },
  {
   "cell_type": "code",
   "execution_count": 15,
   "metadata": {},
   "outputs": [],
   "source": [
    "# create the data by generating generating a random sample\n",
    "diameter_in_mm = np.random.normal(loc=4,scale=0.7,size=6000)  \\\n",
    "                     + np.random.normal(loc=5,scale=0.1,size=6000)"
   ]
  },
  {
   "cell_type": "markdown",
   "metadata": {},
   "source": [
    " H0: The Data is Normally Distributed\n",
    " Against\n",
    "H1: The Data is NOT Normally Distributed"
   ]
  },
  {
   "cell_type": "code",
   "execution_count": 16,
   "metadata": {},
   "outputs": [
    {
     "name": "stdout",
     "output_type": "stream",
     "text": [
      "The Test Statictics is  2.17367077340441 and its Pvalue is 0.33728217423766615\n"
     ]
    }
   ],
   "source": [
    "# Import jarque_bera from the scipy library\n",
    "from scipy.stats import jarque_bera\n",
    "\n",
    "# conduct the Normality Test\n",
    "stat,p=jarque_bera(diameter_in_mm)\n",
    "\n",
    "print(\"The Test Statictics is \",stat,\"and its Pvalue is\",p)"
   ]
  },
  {
   "cell_type": "markdown",
   "metadata": {},
   "source": [
    "Since Pvalue(0.337)>0.05,Hence we Accept H0.\n",
    "We may conclude that Data is Normally Distributed"
   ]
  },
  {
   "cell_type": "code",
   "execution_count": null,
   "metadata": {},
   "outputs": [],
   "source": []
  }
 ],
 "metadata": {
  "kernelspec": {
   "display_name": "Python 3",
   "language": "python",
   "name": "python3"
  },
  "language_info": {
   "codemirror_mode": {
    "name": "ipython",
    "version": 3
   },
   "file_extension": ".py",
   "mimetype": "text/x-python",
   "name": "python",
   "nbconvert_exporter": "python",
   "pygments_lexer": "ipython3",
   "version": "3.8.5"
  }
 },
 "nbformat": 4,
 "nbformat_minor": 4
}
