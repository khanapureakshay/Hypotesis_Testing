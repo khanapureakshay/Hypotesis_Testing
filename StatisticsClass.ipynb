{
 "cells": [
  {
   "cell_type": "markdown",
   "metadata": {},
   "source": [
    "## 01.One sample t test 2 sided"
   ]
  },
  {
   "cell_type": "code",
   "execution_count": 1,
   "metadata": {},
   "outputs": [],
   "source": [
    "import pandas as pd\n",
    "import numpy as np"
   ]
  },
  {
   "cell_type": "markdown",
   "metadata": {},
   "source": [
    "* Two tail que"
   ]
  },
  {
   "cell_type": "markdown",
   "metadata": {},
   "source": [
    "Que.1 The voilent industry furniture for home and office\n",
    "Muee=Mean=The average number of furniture produced by  Machine A"
   ]
  },
  {
   "cell_type": "markdown",
   "metadata": {},
   "source": [
    "Hypotesis\n",
    "H0: Mean of items Produced by Machine A is 10,i.e. μ=30\n",
    "    Against\n",
    "H1: Mean of items Produced by Machine A is not equal to 10 i.e. μ!=30 "
   ]
  },
  {
   "cell_type": "code",
   "execution_count": 2,
   "metadata": {},
   "outputs": [
    {
     "data": {
      "text/html": [
       "<div>\n",
       "<style scoped>\n",
       "    .dataframe tbody tr th:only-of-type {\n",
       "        vertical-align: middle;\n",
       "    }\n",
       "\n",
       "    .dataframe tbody tr th {\n",
       "        vertical-align: top;\n",
       "    }\n",
       "\n",
       "    .dataframe thead th {\n",
       "        text-align: right;\n",
       "    }\n",
       "</style>\n",
       "<table border=\"1\" class=\"dataframe\">\n",
       "  <thead>\n",
       "    <tr style=\"text-align: right;\">\n",
       "      <th></th>\n",
       "      <th>Items Produced</th>\n",
       "    </tr>\n",
       "  </thead>\n",
       "  <tbody>\n",
       "    <tr>\n",
       "      <th>0</th>\n",
       "      <td>34</td>\n",
       "    </tr>\n",
       "    <tr>\n",
       "      <th>1</th>\n",
       "      <td>34</td>\n",
       "    </tr>\n",
       "    <tr>\n",
       "      <th>2</th>\n",
       "      <td>23</td>\n",
       "    </tr>\n",
       "    <tr>\n",
       "      <th>3</th>\n",
       "      <td>45</td>\n",
       "    </tr>\n",
       "    <tr>\n",
       "      <th>4</th>\n",
       "      <td>23</td>\n",
       "    </tr>\n",
       "    <tr>\n",
       "      <th>5</th>\n",
       "      <td>45</td>\n",
       "    </tr>\n",
       "    <tr>\n",
       "      <th>6</th>\n",
       "      <td>34</td>\n",
       "    </tr>\n",
       "    <tr>\n",
       "      <th>7</th>\n",
       "      <td>23</td>\n",
       "    </tr>\n",
       "    <tr>\n",
       "      <th>8</th>\n",
       "      <td>37</td>\n",
       "    </tr>\n",
       "    <tr>\n",
       "      <th>9</th>\n",
       "      <td>35</td>\n",
       "    </tr>\n",
       "  </tbody>\n",
       "</table>\n",
       "</div>"
      ],
      "text/plain": [
       "   Items Produced\n",
       "0              34\n",
       "1              34\n",
       "2              23\n",
       "3              45\n",
       "4              23\n",
       "5              45\n",
       "6              34\n",
       "7              23\n",
       "8              37\n",
       "9              35"
      ]
     },
     "execution_count": 2,
     "metadata": {},
     "output_type": "execute_result"
    }
   ],
   "source": [
    "df_production=pd.read_csv(r'D:\\Imarticus Database\\Hypothesis Testing Data Set\\Production.csv')\n",
    "df_production"
   ]
  },
  {
   "cell_type": "code",
   "execution_count": 3,
   "metadata": {},
   "outputs": [],
   "source": [
    "from scipy.stats import ttest_1samp"
   ]
  },
  {
   "cell_type": "code",
   "execution_count": 4,
   "metadata": {},
   "outputs": [],
   "source": [
    "#Conduct T-test\n",
    "ttest,pvalue=ttest_1samp(df_production[\"Items Produced\"],30)"
   ]
  },
  {
   "cell_type": "code",
   "execution_count": 5,
   "metadata": {},
   "outputs": [
    {
     "name": "stdout",
     "output_type": "stream",
     "text": [
      "1.2674612253287467 0.23680061493494728\n"
     ]
    }
   ],
   "source": [
    "print(ttest,pvalue)"
   ]
  },
  {
   "cell_type": "code",
   "execution_count": 6,
   "metadata": {},
   "outputs": [
    {
     "name": "stdout",
     "output_type": "stream",
     "text": [
      "Accept H0 \n"
     ]
    }
   ],
   "source": [
    "if pvalue>0.05:\n",
    "    print(\"Accept H0 \")\n",
    "else:\n",
    "    print(\"Reject H0\")"
   ]
  },
  {
   "cell_type": "markdown",
   "metadata": {},
   "source": [
    "* we can see Pvalue(0.236)>Significace(0.05) hence we accept H0\n",
    " from here we can conclude that μ = 30"
   ]
  },
  {
   "cell_type": "markdown",
   "metadata": {},
   "source": [
    "* One tail que"
   ]
  },
  {
   "cell_type": "markdown",
   "metadata": {},
   "source": [
    "* Que. bulb life\n",
    "Hypotesis\n",
    "Ho: μ=45000\n",
    "H1: μ<=45000"
   ]
  },
  {
   "cell_type": "code",
   "execution_count": 7,
   "metadata": {},
   "outputs": [
    {
     "data": {
      "text/html": [
       "<div>\n",
       "<style scoped>\n",
       "    .dataframe tbody tr th:only-of-type {\n",
       "        vertical-align: middle;\n",
       "    }\n",
       "\n",
       "    .dataframe tbody tr th {\n",
       "        vertical-align: top;\n",
       "    }\n",
       "\n",
       "    .dataframe thead th {\n",
       "        text-align: right;\n",
       "    }\n",
       "</style>\n",
       "<table border=\"1\" class=\"dataframe\">\n",
       "  <thead>\n",
       "    <tr style=\"text-align: right;\">\n",
       "      <th></th>\n",
       "      <th>life</th>\n",
       "    </tr>\n",
       "  </thead>\n",
       "  <tbody>\n",
       "    <tr>\n",
       "      <th>0</th>\n",
       "      <td>35000</td>\n",
       "    </tr>\n",
       "    <tr>\n",
       "      <th>1</th>\n",
       "      <td>49000</td>\n",
       "    </tr>\n",
       "    <tr>\n",
       "      <th>2</th>\n",
       "      <td>44000</td>\n",
       "    </tr>\n",
       "    <tr>\n",
       "      <th>3</th>\n",
       "      <td>45900</td>\n",
       "    </tr>\n",
       "    <tr>\n",
       "      <th>4</th>\n",
       "      <td>43400</td>\n",
       "    </tr>\n",
       "    <tr>\n",
       "      <th>5</th>\n",
       "      <td>50000</td>\n",
       "    </tr>\n",
       "    <tr>\n",
       "      <th>6</th>\n",
       "      <td>47200</td>\n",
       "    </tr>\n",
       "    <tr>\n",
       "      <th>7</th>\n",
       "      <td>32700</td>\n",
       "    </tr>\n",
       "    <tr>\n",
       "      <th>8</th>\n",
       "      <td>33200</td>\n",
       "    </tr>\n",
       "    <tr>\n",
       "      <th>9</th>\n",
       "      <td>43000</td>\n",
       "    </tr>\n",
       "    <tr>\n",
       "      <th>10</th>\n",
       "      <td>46300</td>\n",
       "    </tr>\n",
       "    <tr>\n",
       "      <th>11</th>\n",
       "      <td>47800</td>\n",
       "    </tr>\n",
       "    <tr>\n",
       "      <th>12</th>\n",
       "      <td>32100</td>\n",
       "    </tr>\n",
       "    <tr>\n",
       "      <th>13</th>\n",
       "      <td>33200</td>\n",
       "    </tr>\n",
       "    <tr>\n",
       "      <th>14</th>\n",
       "      <td>33900</td>\n",
       "    </tr>\n",
       "  </tbody>\n",
       "</table>\n",
       "</div>"
      ],
      "text/plain": [
       "     life\n",
       "0   35000\n",
       "1   49000\n",
       "2   44000\n",
       "3   45900\n",
       "4   43400\n",
       "5   50000\n",
       "6   47200\n",
       "7   32700\n",
       "8   33200\n",
       "9   43000\n",
       "10  46300\n",
       "11  47800\n",
       "12  32100\n",
       "13  33200\n",
       "14  33900"
      ]
     },
     "execution_count": 7,
     "metadata": {},
     "output_type": "execute_result"
    }
   ],
   "source": [
    "# Load Data\n",
    "df_lifeSpan= pd.read_csv(r'D:\\Imarticus Database\\Hypothesis Testing Data Set\\LifeSpan.csv')\n",
    "df_lifeSpan"
   ]
  },
  {
   "cell_type": "code",
   "execution_count": 8,
   "metadata": {},
   "outputs": [],
   "source": [
    "# Assume first is two tail test\n",
    "t_test_less = ttest_1samp(df_lifeSpan['life'],45000)"
   ]
  },
  {
   "cell_type": "code",
   "execution_count": 9,
   "metadata": {},
   "outputs": [],
   "source": [
    "# so divide Two tail by 2 to get One Tail\n",
    "p_value_less=t_test_less.pvalue/2"
   ]
  },
  {
   "cell_type": "code",
   "execution_count": 10,
   "metadata": {},
   "outputs": [
    {
     "data": {
      "text/plain": [
       "0.022628491566062506"
      ]
     },
     "execution_count": 10,
     "metadata": {},
     "output_type": "execute_result"
    }
   ],
   "source": [
    "p_value_less"
   ]
  },
  {
   "cell_type": "code",
   "execution_count": 11,
   "metadata": {},
   "outputs": [],
   "source": [
    "# Since P-Value(0.022)<0.05 (Significance) hence we reject H0  μ<=45000"
   ]
  },
  {
   "cell_type": "markdown",
   "metadata": {},
   "source": [
    "## Two Sample T test"
   ]
  },
  {
   "cell_type": "markdown",
   "metadata": {},
   "source": [
    "* Que. X: Diet A weight\n",
    "       y: Diet B weight \n",
    "μA=Average weight of A\n",
    "μB=Average weight of B\n",
    "\n",
    "H0:μA=μB (Average weight of Both is Same)\n",
    "H1:μA!=μB(Average weight of Both is Different)\n"
   ]
  },
  {
   "cell_type": "code",
   "execution_count": 12,
   "metadata": {},
   "outputs": [],
   "source": [
    "df_diet=pd.read_csv(r'D:\\Imarticus Database\\Hypothesis Testing Data Set\\Diet_data.csv')"
   ]
  },
  {
   "cell_type": "code",
   "execution_count": 13,
   "metadata": {},
   "outputs": [],
   "source": [
    "#T-Test for Equlity of Means\n",
    "from scipy.stats import ttest_ind"
   ]
  },
  {
   "cell_type": "code",
   "execution_count": 14,
   "metadata": {},
   "outputs": [
    {
     "data": {
      "text/plain": [
       "Ttest_indResult(statistic=0.5169140149580205, pvalue=0.6115094596012607)"
      ]
     },
     "execution_count": 14,
     "metadata": {},
     "output_type": "execute_result"
    }
   ],
   "source": [
    "ttest_ind(df_diet[\"Diet A\"],df_diet[\"Diet B\"])\n",
    "# Pvalue> alpha i.e.0.05 so we Fail to Reject H0\n",
    "# so Mean are  equal"
   ]
  },
  {
   "cell_type": "markdown",
   "metadata": {},
   "source": [
    "## Paird T-test"
   ]
  },
  {
   "cell_type": "markdown",
   "metadata": {},
   "source": [
    "x=Hours of Sleep before Meditation\n",
    "y= after \n",
    "μx:Average hours of Sleep before Meditation\n",
    "μy:Average after\n",
    "H0: μx=μy\n",
    "H1: μx!=μy"
   ]
  },
  {
   "cell_type": "code",
   "execution_count": 15,
   "metadata": {},
   "outputs": [
    {
     "data": {
      "text/html": [
       "<div>\n",
       "<style scoped>\n",
       "    .dataframe tbody tr th:only-of-type {\n",
       "        vertical-align: middle;\n",
       "    }\n",
       "\n",
       "    .dataframe tbody tr th {\n",
       "        vertical-align: top;\n",
       "    }\n",
       "\n",
       "    .dataframe thead th {\n",
       "        text-align: right;\n",
       "    }\n",
       "</style>\n",
       "<table border=\"1\" class=\"dataframe\">\n",
       "  <thead>\n",
       "    <tr style=\"text-align: right;\">\n",
       "      <th></th>\n",
       "      <th>Hours of Sleep (Before)</th>\n",
       "      <th>Hours of Sleep (After)</th>\n",
       "    </tr>\n",
       "  </thead>\n",
       "  <tbody>\n",
       "    <tr>\n",
       "      <th>0</th>\n",
       "      <td>5.0</td>\n",
       "      <td>7.0</td>\n",
       "    </tr>\n",
       "    <tr>\n",
       "      <th>1</th>\n",
       "      <td>6.0</td>\n",
       "      <td>7.5</td>\n",
       "    </tr>\n",
       "    <tr>\n",
       "      <th>2</th>\n",
       "      <td>6.5</td>\n",
       "      <td>9.0</td>\n",
       "    </tr>\n",
       "    <tr>\n",
       "      <th>3</th>\n",
       "      <td>5.5</td>\n",
       "      <td>7.0</td>\n",
       "    </tr>\n",
       "    <tr>\n",
       "      <th>4</th>\n",
       "      <td>6.5</td>\n",
       "      <td>8.0</td>\n",
       "    </tr>\n",
       "    <tr>\n",
       "      <th>5</th>\n",
       "      <td>7.0</td>\n",
       "      <td>7.5</td>\n",
       "    </tr>\n",
       "    <tr>\n",
       "      <th>6</th>\n",
       "      <td>8.0</td>\n",
       "      <td>7.0</td>\n",
       "    </tr>\n",
       "    <tr>\n",
       "      <th>7</th>\n",
       "      <td>7.5</td>\n",
       "      <td>7.0</td>\n",
       "    </tr>\n",
       "    <tr>\n",
       "      <th>8</th>\n",
       "      <td>6.0</td>\n",
       "      <td>7.0</td>\n",
       "    </tr>\n",
       "    <tr>\n",
       "      <th>9</th>\n",
       "      <td>7.0</td>\n",
       "      <td>6.5</td>\n",
       "    </tr>\n",
       "  </tbody>\n",
       "</table>\n",
       "</div>"
      ],
      "text/plain": [
       "   Hours of Sleep (Before)  Hours of Sleep (After)\n",
       "0                      5.0                     7.0\n",
       "1                      6.0                     7.5\n",
       "2                      6.5                     9.0\n",
       "3                      5.5                     7.0\n",
       "4                      6.5                     8.0\n",
       "5                      7.0                     7.5\n",
       "6                      8.0                     7.0\n",
       "7                      7.5                     7.0\n",
       "8                      6.0                     7.0\n",
       "9                      7.0                     6.5"
      ]
     },
     "execution_count": 15,
     "metadata": {},
     "output_type": "execute_result"
    }
   ],
   "source": [
    "df_sleepdata=pd.read_csv(r'D:\\Imarticus Database\\Hypothesis Testing Data Set\\Sleep_data.csv')\n",
    "df_sleepdata"
   ]
  },
  {
   "cell_type": "code",
   "execution_count": 16,
   "metadata": {},
   "outputs": [],
   "source": [
    "from scipy.stats import ttest_rel"
   ]
  },
  {
   "cell_type": "code",
   "execution_count": 17,
   "metadata": {},
   "outputs": [
    {
     "data": {
      "text/plain": [
       "Ttest_relResult(statistic=-2.2785119632047284, pvalue=0.048680802344322635)"
      ]
     },
     "execution_count": 17,
     "metadata": {},
     "output_type": "execute_result"
    }
   ],
   "source": [
    "ttest_rel(df_sleepdata['Hours of Sleep (Before)'],df_sleepdata['Hours of Sleep (After)'])"
   ]
  },
  {
   "cell_type": "markdown",
   "metadata": {},
   "source": [
    " Pvalue(0.048)<0.05 so that we are REJECTING H0\n",
    " we can conclude that average Hours of Sleep after Sleep is not same before and after meditation "
   ]
  },
  {
   "cell_type": "markdown",
   "metadata": {},
   "source": [
    "# Z-test"
   ]
  },
  {
   "cell_type": "markdown",
   "metadata": {},
   "source": [
    "* Que. "
   ]
  },
  {
   "cell_type": "markdown",
   "metadata": {},
   "source": [
    "A random Sample of 40 glass rods is taken from a lot manufacturing under a new process. They are tested for their breaking strength.Can we claim that the breaking strength is equal to 55lbs?"
   ]
  },
  {
   "cell_type": "markdown",
   "metadata": {},
   "source": [
    "X: Breaking Strength of Glass rod\n",
    "thus μ= Average breaking stength of Glass\n",
    "H0: μ =55lbs(Average breaking stength of Glass=55 lbs)\n",
    "H1: μ!= 55 lbs(Average breaking stength of Glass is NOT 55 lbs)"
   ]
  },
  {
   "cell_type": "code",
   "execution_count": 18,
   "metadata": {},
   "outputs": [],
   "source": [
    "# Load Data\n",
    "df_strength= pd.read_csv(r'D:\\Imarticus Database\\Hypothesis Testing Data Set\\Strength.csv')"
   ]
  },
  {
   "cell_type": "code",
   "execution_count": 19,
   "metadata": {},
   "outputs": [],
   "source": [
    "#Import Libraries\n",
    "from statsmodels.stats import weightstats as stests"
   ]
  },
  {
   "cell_type": "code",
   "execution_count": 20,
   "metadata": {},
   "outputs": [
    {
     "data": {
      "text/plain": [
       "(-4.431740748679182, 9.347536680921983e-06)"
      ]
     },
     "execution_count": 20,
     "metadata": {},
     "output_type": "execute_result"
    }
   ],
   "source": [
    "# Conduct Test\n",
    "stests.ztest(df_strength[\"Strength(in lbs)\"],value=55)"
   ]
  },
  {
   "cell_type": "markdown",
   "metadata": {},
   "source": [
    "Since Pvalue(0)<Significance(0.05),Hence we Reject Null Hypotesis\n",
    "Hence glassrod Strength is not 55 lbs"
   ]
  },
  {
   "cell_type": "markdown",
   "metadata": {},
   "source": [
    "### Two Sample Test(Z)"
   ]
  },
  {
   "cell_type": "markdown",
   "metadata": {},
   "source": [
    "Que. Two types of fertilizers are teasted on farm lands of the same size.The yields in quintals are given below.Can we conclude that two fertilizers have Same Yield?"
   ]
  },
  {
   "cell_type": "markdown",
   "metadata": {},
   "source": [
    "X: Fertilizer 1\n",
    "Y: Fertilizer 2\n",
    "ua=Average Yield due to Fertilizer 1\n",
    "ub=Average Yield due to Fertilizer 2\n",
    "H0: Both Yield Same (ua=ub)\n",
    "Ha: Both Yield Different(ua!=ub)"
   ]
  },
  {
   "cell_type": "code",
   "execution_count": 21,
   "metadata": {},
   "outputs": [],
   "source": [
    "# Load Data\n",
    "df_fertilizers=pd.read_csv(r'D:\\Imarticus Database\\Hypothesis Testing Data Set\\Fertilizer.csv')\n",
    "#Import Libraries\n",
    "from statsmodels.stats import weightstats as stests"
   ]
  },
  {
   "cell_type": "code",
   "execution_count": 22,
   "metadata": {},
   "outputs": [
    {
     "data": {
      "text/plain": [
       "(-1.1390306751872912, 0.25469036008906554)"
      ]
     },
     "execution_count": 22,
     "metadata": {},
     "output_type": "execute_result"
    }
   ],
   "source": [
    "# Conduct Ztest\n",
    "stests.ztest(df_fertilizers[\"Fertilizer 1\"],df_fertilizers[\"Fertilizer 2\"])"
   ]
  },
  {
   "cell_type": "markdown",
   "metadata": {},
   "source": [
    "Since Pvalue(0.2546)>0.05 so that H0 is ACCEPTED, Both yield SAME"
   ]
  },
  {
   "cell_type": "markdown",
   "metadata": {},
   "source": [
    "# Shapiro-Wilk Test"
   ]
  },
  {
   "cell_type": "code",
   "execution_count": 23,
   "metadata": {},
   "outputs": [],
   "source": [
    "import numpy as np"
   ]
  },
  {
   "cell_type": "code",
   "execution_count": 24,
   "metadata": {},
   "outputs": [],
   "source": [
    "# Create data random Sample\n",
    "rain_in_mm=np.random.random(200)*100"
   ]
  },
  {
   "cell_type": "markdown",
   "metadata": {},
   "source": [
    "H0: Data is Normally Distributed\n",
    "Ha: Data is NOT Normally Distributed"
   ]
  },
  {
   "cell_type": "code",
   "execution_count": 25,
   "metadata": {},
   "outputs": [
    {
     "name": "stdout",
     "output_type": "stream",
     "text": [
      "Test Statictics = 0.9390888810157776 and Pvalue = 1.9107446291855013e-07\n"
     ]
    }
   ],
   "source": [
    "# Import shapiro from scipy library\n",
    "from scipy.stats import shapiro\n",
    "# conduct Normality Test\n",
    "stat,p= shapiro(rain_in_mm)\n",
    "\n",
    "print(\"Test Statictics =\",stat,\"and Pvalue =\",p)"
   ]
  },
  {
   "cell_type": "markdown",
   "metadata": {},
   "source": [
    "Since Pvalue(4.46)<0.05 so that H0 is Rejected \n",
    "Hence we Can Conclude that Data is NOT Normally Distributed"
   ]
  },
  {
   "cell_type": "markdown",
   "metadata": {},
   "source": [
    " # Jarque-Bera test"
   ]
  },
  {
   "cell_type": "code",
   "execution_count": 26,
   "metadata": {},
   "outputs": [],
   "source": [
    "# create the data by  generating a random sample\n",
    "diameter_in_mm = np.random.normal(loc=4,scale=0.7,size=6000)  \\\n",
    "                     + np.random.normal(loc=5,scale=0.1,size=6000)"
   ]
  },
  {
   "cell_type": "markdown",
   "metadata": {},
   "source": [
    " H0: The Data is Normally Distributed\n",
    " Against\n",
    "H1: The Data is NOT Normally Distributed"
   ]
  },
  {
   "cell_type": "code",
   "execution_count": 27,
   "metadata": {},
   "outputs": [
    {
     "name": "stdout",
     "output_type": "stream",
     "text": [
      "The Test Statictics is  2.3187528905344132 and its Pvalue is 0.31368171763195685\n"
     ]
    }
   ],
   "source": [
    "# Import jarque_bera from the scipy library\n",
    "from scipy.stats import jarque_bera\n",
    "\n",
    "# conduct the Normality Test\n",
    "stat,p=jarque_bera(diameter_in_mm)\n",
    "\n",
    "print(\"The Test Statictics is \",stat,\"and its Pvalue is\",p)"
   ]
  },
  {
   "cell_type": "markdown",
   "metadata": {},
   "source": [
    "Since Pvalue(0.455)>0.05,Hence we Accept H0.\n",
    "We may conclude that Data is Normally Distributed"
   ]
  },
  {
   "cell_type": "code",
   "execution_count": 28,
   "metadata": {},
   "outputs": [],
   "source": [
    "# diagram ke liya Matplot lib ka pyplot ka use karey"
   ]
  },
  {
   "cell_type": "code",
   "execution_count": 29,
   "metadata": {},
   "outputs": [],
   "source": [
    "from matplotlib import pyplot as plt"
   ]
  },
  {
   "cell_type": "code",
   "execution_count": 30,
   "metadata": {},
   "outputs": [
    {
     "name": "stderr",
     "output_type": "stream",
     "text": [
      "D:\\Installation\\Anaconda\\lib\\site-packages\\seaborn\\distributions.py:2551: FutureWarning: `distplot` is a deprecated function and will be removed in a future version. Please adapt your code to use either `displot` (a figure-level function with similar flexibility) or `kdeplot` (an axes-level function for kernel density plots).\n",
      "  warnings.warn(msg, FutureWarning)\n"
     ]
    },
    {
     "data": {
      "text/plain": [
       "<AxesSubplot:ylabel='Density'>"
      ]
     },
     "execution_count": 30,
     "metadata": {},
     "output_type": "execute_result"
    },
    {
     "data": {
      "image/png": "[encoded data removed]",
      "text/plain": [
       "<Figure size 432x288 with 1 Axes>"
      ]
     },
     "metadata": {
      "needs_background": "light"
     },
     "output_type": "display_data"
    }
   ],
   "source": [
    "import seaborn as sb\n",
    "sb.distplot(np.random.normal(size=100),hist=False)"
   ]
  },
  {
   "cell_type": "code",
   "execution_count": 31,
   "metadata": {},
   "outputs": [
    {
     "name": "stderr",
     "output_type": "stream",
     "text": [
      "D:\\Installation\\Anaconda\\lib\\site-packages\\seaborn\\distributions.py:2551: FutureWarning: `distplot` is a deprecated function and will be removed in a future version. Please adapt your code to use either `displot` (a figure-level function with similar flexibility) or `kdeplot` (an axes-level function for kernel density plots).\n",
      "  warnings.warn(msg, FutureWarning)\n"
     ]
    },
    {
     "data": {
      "text/plain": [
       "<AxesSubplot:ylabel='Density'>"
      ]
     },
     "execution_count": 31,
     "metadata": {},
     "output_type": "execute_result"
    },
    {
     "data": {
      "image/png": "[encoded data removed]",
      "text/plain": [
       "<Figure size 432x288 with 1 Axes>"
      ]
     },
     "metadata": {
      "needs_background": "light"
     },
     "output_type": "display_data"
    }
   ],
   "source": [
    "b=np.random.normal(loc=2,scale=5,size=(10000))\n",
    "sb.distplot(b,hist=False)"
   ]
  },
  {
   "cell_type": "code",
   "execution_count": 32,
   "metadata": {},
   "outputs": [
    {
     "data": {
      "text/plain": [
       "(0.16664191457371993, 0.9200558012122165)"
      ]
     },
     "execution_count": 32,
     "metadata": {},
     "output_type": "execute_result"
    }
   ],
   "source": [
    "stat,p=jarque_bera(b)\n",
    "stat,p"
   ]
  },
  {
   "cell_type": "markdown",
   "metadata": {},
   "source": [
    " Since Pvalue>0.05 so that Accept H0"
   ]
  },
  {
   "cell_type": "markdown",
   "metadata": {},
   "source": [
    "# ANOVA Test(One Way)\n",
    "\n",
    "Que. A firm wishes to compare 4 programs for training workers to perform a certain task. 20 new employee are randomly assigned to these programs with 5 in each.At the end of training a test is conducted to see how quickly the trainees performs that task is performed per hour is recorded for each trainee\n",
    "Perform ANOVA to check the effectiveness of programme.(Assume the level of Significance = 0.05)"
   ]
  },
  {
   "cell_type": "markdown",
   "metadata": {},
   "source": [
    "Sol: u : be the number of times task is performed per hour by trainee in first Programme\n",
    "\n",
    "Similary u2,u3,u4 by 2,3,4 the number of times task is performed per hour by trainee in 2,3,4 Programme\n",
    "\n",
    "Test Hypotesis\n",
    "H0: Average number of pages per hour are equal\n",
    "H1: Atleast one pair of average is not equal i.e. u1!=u2!=u3!=u4"
   ]
  },
  {
   "cell_type": "code",
   "execution_count": 36,
   "metadata": {},
   "outputs": [
    {
     "data": {
      "text/plain": [
       "F_onewayResult(statistic=4.847058823529411, pvalue=0.013830501956998824)"
      ]
     },
     "execution_count": 36,
     "metadata": {},
     "output_type": "execute_result"
    }
   ],
   "source": [
    "#Import required Libraries \n",
    "from scipy.stats import f_oneway\n",
    "\n",
    "# write all data\n",
    "prog_1=[1,2,3,4,5]\n",
    "prog_2=[6,7,8,9,10]\n",
    "prog_3=[12,23,4,35,56]\n",
    "prog_4=[15,16,17,18,19]\n",
    "\n",
    "# Perform Test:\n",
    "f_oneway(prog_1,prog_2,prog_3,prog_4)"
   ]
  },
  {
   "cell_type": "markdown",
   "metadata": {},
   "source": [
    " Since pvalue(0)<0.05 So that H0 is Reject  i.e. Average are NOT equal( u1!=u2!=u3!=u4)"
   ]
  },
  {
   "cell_type": "markdown",
   "metadata": {},
   "source": [
    "# Chi Square Test"
   ]
  },
  {
   "cell_type": "markdown",
   "metadata": {},
   "source": [
    "Question:\n",
    "The data gives the distribution of studuent accourding to the type of music they prefer and IQ level \n",
    "Test whether the type of preference music and I.Q. level are independent.\n",
    "                    I.Q.level\n",
    "                    High        Medium      Low\n",
    "music: classical      45         32          13\n",
    "        semi-classi   58          62         30 \n",
    "        Rock          87          126        87"
   ]
  },
  {
   "cell_type": "markdown",
   "metadata": {},
   "source": [
    "H0: The attribute I.Q. level and Music are Independent of each other\n",
    "Ha: The attribute I.Q. level and Music are Dependent"
   ]
  },
  {
   "cell_type": "code",
   "execution_count": 38,
   "metadata": {},
   "outputs": [
    {
     "data": {
      "text/plain": [
       "(17.640883327199113, 0.0014503134604129857)"
      ]
     },
     "execution_count": 38,
     "metadata": {},
     "output_type": "execute_result"
    }
   ],
   "source": [
    "# import the reqired library \n",
    "from scipy.stats import chi2_contingency\n",
    "\n",
    "# write data \n",
    "frequencies= np.array([[45,32,13],[58,62,30],[87,126,87]])\n",
    "\n",
    "# perform the test\n",
    "stat,p,dof,expected=chi2_contingency(frequencies)\n",
    "stat,p"
   ]
  },
  {
   "cell_type": "markdown",
   "metadata": {},
   "source": [
    "pvalue(0.001)<0.05 Hence Reject Null Hypo, so that The attribute I.Q. level and Music are Dependent"
   ]
  },
  {
   "cell_type": "markdown",
   "metadata": {},
   "source": [
    "* Goodness of Test"
   ]
  },
  {
   "cell_type": "markdown",
   "metadata": {},
   "source": [
    "Que. A marketing manager at at Apple Inc. claims that silver coloured iPad's have 43% demand,space gray have 48% damand and gold colored have only 9% demand.\n",
    "From a sample of 560 buyers of iPads,the color of device was recorded.\n",
    "      Color of iPad\n",
    "Silver   SpaceGray    Gold\n",
    "280         190        90\n",
    "Test manager Claim?"
   ]
  },
  {
   "cell_type": "markdown",
   "metadata": {},
   "source": [
    "H0: There is NO difference between Observed freq and Expected freq \n",
    "H1:  There is differerence"
   ]
  },
  {
   "cell_type": "code",
   "execution_count": 2,
   "metadata": {},
   "outputs": [
    {
     "data": {
      "text/plain": [
       "Power_divergenceResult(statistic=60.59627630121817, pvalue=6.945216514453092e-14)"
      ]
     },
     "execution_count": 2,
     "metadata": {},
     "output_type": "execute_result"
    }
   ],
   "source": [
    "from scipy.stats import chisquare\n",
    "\n",
    "# observed frequency are\n",
    "observed_frequency = [280,190,90]\n",
    "\n",
    "# expected frequency are\n",
    "#Multiply the chance of each color with by sample size in order to obtain the frequency\n",
    "expected_frequency=[560*0.43,560*0.48,0.09*560]\n",
    "\n",
    "# Perform Test\n",
    "chisquare(observed_frequency,expected_frequency)\n"
   ]
  },
  {
   "cell_type": "markdown",
   "metadata": {},
   "source": [
    "* Since Pvalue(0) < 0.05 we fail to Reject H0\n",
    "  so definetly there is Differences "
   ]
  }
 ],
 "metadata": {
  "kernelspec": {
   "display_name": "Python 3",
   "language": "python",
   "name": "python3"
  },
  "language_info": {
   "codemirror_mode": {
    "name": "ipython",
    "version": 3
   },
   "file_extension": ".py",
   "mimetype": "text/x-python",
   "name": "python",
   "nbconvert_exporter": "python",
   "pygments_lexer": "ipython3",
   "version": "3.8.5"
  }
 },
 "nbformat": 4,
 "nbformat_minor": 4
}
